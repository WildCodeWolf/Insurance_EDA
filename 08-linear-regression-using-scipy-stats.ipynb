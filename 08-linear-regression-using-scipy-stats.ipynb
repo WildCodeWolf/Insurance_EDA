{
 "cells": [
  {
   "cell_type": "markdown",
   "metadata": {},
   "source": [
    "Back to the [README](./README.md)\n",
    "\n",
    "Back to the [fitting notebook](./05-fitting-df_low.ipynb)\n",
    "\n",
    "Back to the [previous notebook](./07-linear-regression-using-statsmodels-api.ipynb)\n",
    "\n",
    "--------------------"
   ]
  },
  {
   "cell_type": "code",
   "execution_count": 1,
   "metadata": {
    "tags": [
     "packages"
    ]
   },
   "outputs": [],
   "source": [
    "import numpy as np\n",
    "from scipy.stats import linregress, t\n",
    "\n",
    "from setup import df_low, Col"
   ]
  },
  {
   "cell_type": "markdown",
   "metadata": {},
   "source": [
    "--------------------\n",
    "\n",
    "# Linear Regression Using SciPy.Stats"
   ]
  },
  {
   "cell_type": "code",
   "execution_count": 2,
   "metadata": {},
   "outputs": [
    {
     "name": "stdout",
     "output_type": "stream",
     "text": [
      "R^2:\t\t\t0.9581524960085099\n",
      "Intercept:\t\t1160.1072156361488\n",
      "Intercept StdErr:\t47.14313657362188\n",
      "Slope:\t\t\t3.363981303057231\n",
      "Slope StdErr:\t\t0.022654677900924087\n"
     ]
    }
   ],
   "source": [
    "# Set up the data\n",
    "x = df_low[Col.age2]    # age**2\n",
    "y = df_low[Col.charges] # charges\n",
    "\n",
    "# Perform the regression\n",
    "result = linregress(x, y)\n",
    "\n",
    "# Quickly check the result\n",
    "print(f'R^2:\\t\\t\\t{result.rvalue**2}')\n",
    "print(f'Intercept:\\t\\t{result.intercept}')\n",
    "print(f'Intercept StdErr:\\t{result.intercept_stderr}')\n",
    "print(f'Slope:\\t\\t\\t{result.slope}')\n",
    "print(f'Slope StdErr:\\t\\t{result.stderr}')"
   ]
  },
  {
   "cell_type": "markdown",
   "metadata": {},
   "source": [
    "Again, those are essentially the same parameters the other packages\n",
    "revealed (except for the new ones, `result.stderr` and `result.intercept_stderr`).\n",
    "The advantage over `sklearn` is that we do get some statistics on our result\n",
    "at all, the disadvantage with respect to `statsmodel.api` is that we need\n",
    "to compute the confidence niveous for our slope and the intercept by ourselves.\n",
    "\n",
    "For that, we will employ the *t-Distribution* as it is shipped with the\n",
    "package itself.  Or rather, we need the inverse `tinv(p, df)` for a given\n",
    "error `p` and known degrees of freedom `df`:"
   ]
  },
  {
   "cell_type": "code",
   "execution_count": 3,
   "metadata": {},
   "outputs": [],
   "source": [
    "tinv = lambda p, df: abs(t.ppf(p/2, df))"
   ]
  },
  {
   "cell_type": "markdown",
   "metadata": {},
   "source": [
    "With this, we can obtain the scale that shall give us the confidence niveous\n",
    "when multiplied with the standard errors:"
   ]
  },
  {
   "cell_type": "code",
   "execution_count": 5,
   "metadata": {},
   "outputs": [],
   "source": [
    "ts = tinv(.05, len(df_low) - 2)"
   ]
  },
  {
   "cell_type": "markdown",
   "metadata": {},
   "source": [
    "The resulting prediction for our parameters would thus look like this:"
   ]
  },
  {
   "cell_type": "code",
   "execution_count": 6,
   "metadata": {},
   "outputs": [
    {
     "name": "stdout",
     "output_type": "stream",
     "text": [
      "Slope (95%):\t\t3.363981303057231 +/- 0.04445822971698465\n",
      "Intersept (95%):\t1160.1072156361488 +/- 92.515126656635\n"
     ]
    }
   ],
   "source": [
    "print(f'Slope (95%):\\t\\t{result.slope} +/- {ts*result.stderr}')\n",
    "print(f'Intersept (95%):\\t{result.intercept} +/- {ts*result.intercept_stderr}')"
   ]
  },
  {
   "cell_type": "markdown",
   "metadata": {},
   "source": [
    "And for our line, we would write\n",
    "$$c_{1, r}(a) =  (3.363981 \\pm 0.044458) \\cdot a^2 + \\underbrace{1160.107216 \\pm 92.515127}_{n_{1, r}}$$\n",
    "\n",
    "Note that this is the same as the `statsmodel.api` result, except the confidence margins\n",
    "are slightly different.  Here, we computed them ourselves using the *t-Distribution*\n",
    "whereas the `statsmodel.api` result let us extract/ call them directly.\n",
    "\n",
    "This concludes our small discussion about linear regression in Python using different\n",
    "packages, and we return back to the [fitting notebook](./age-charge-relation.ipynb) for\n",
    "this part of our analysis."
   ]
  },
  {
   "cell_type": "markdown",
   "metadata": {},
   "source": [
    "--------------------\n",
    "\n",
    "Back to the [README](./README.md)\n",
    "\n",
    "Back to the [previous notebook](./07-linear-regression-using-statsmodels-api.ipynb)\n",
    "\n",
    "Back to the [fitting notebook](./08-linear-regression-using-scipy-stats.ipynb)"
   ]
  }
 ],
 "metadata": {
  "kernelspec": {
   "display_name": ".venv",
   "language": "python",
   "name": "python3"
  },
  "language_info": {
   "codemirror_mode": {
    "name": "ipython",
    "version": 3
   },
   "file_extension": ".py",
   "mimetype": "text/x-python",
   "name": "python",
   "nbconvert_exporter": "python",
   "pygments_lexer": "ipython3",
   "version": "3.11.3"
  }
 },
 "nbformat": 4,
 "nbformat_minor": 2
}
