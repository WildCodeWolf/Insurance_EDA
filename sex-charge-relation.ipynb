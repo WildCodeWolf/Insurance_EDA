{
 "cells": [
  {
   "cell_type": "markdown",
   "metadata": {},
   "source": [
    "Back to [README](./README.md)\n",
    "\n",
    "Back to the [analysis notebook](./analysis.ipynb)\n",
    "\n",
    "Back to the [previous notebook](./age-charge-relation.ipynb)\n",
    "\n",
    "--------------------"
   ]
  },
  {
   "cell_type": "code",
   "execution_count": null,
   "metadata": {},
   "outputs": [],
   "source": [
    "import pandas as pd\n",
    "\n",
    "from setup import df, Col, Sex, Region"
   ]
  },
  {
   "cell_type": "markdown",
   "metadata": {},
   "source": [
    "--------------------\n",
    "\n",
    "### Question 2:<br/>Do males and females get charged evenly by their insurance companies?\n",
    "\n",
    "Given the fact that medical treatment for both sexes varies significantly,\n",
    "one would expect females to be charged more on average.\n"
   ]
  },
  {
   "cell_type": "markdown",
   "metadata": {},
   "source": []
  }
 ],
 "metadata": {
  "kernelspec": {
   "display_name": ".venv",
   "language": "python",
   "name": "python3"
  },
  "language_info": {
   "name": "python",
   "version": "3.11.3"
  }
 },
 "nbformat": 4,
 "nbformat_minor": 2
}
